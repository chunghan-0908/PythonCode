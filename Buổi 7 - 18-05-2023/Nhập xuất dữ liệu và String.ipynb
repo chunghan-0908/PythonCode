{
 "cells": [
  {
   "cell_type": "markdown",
   "id": "7ac14915",
   "metadata": {},
   "source": [
    "# Nhập xuất dữ liệu và String\n",
    "## Cách nhập xuất dữ liệu"
   ]
  },
  {
   "cell_type": "markdown",
   "id": "0f202ae8",
   "metadata": {},
   "source": [
    "### Xuất dữ liệu ra màn hình\n",
    "Để in các nội dung mà chúng ta mong muốn ra màn hình, ta sử dụng lệnh print()"
   ]
  },
  {
   "cell_type": "code",
   "execution_count": 1,
   "id": "a6d3f260",
   "metadata": {},
   "outputs": [
    {
     "name": "stdout",
     "output_type": "stream",
     "text": [
      "Python is very easy\n"
     ]
    }
   ],
   "source": [
    "# Ví dụ: In ra nội dung \"python is very easy\"\n",
    "print(\"Python is very easy\")"
   ]
  },
  {
   "cell_type": "markdown",
   "id": "7733925a",
   "metadata": {},
   "source": [
    "### Các cách custom với lệnh print"
   ]
  },
  {
   "cell_type": "markdown",
   "id": "292ab570",
   "metadata": {},
   "source": [
    "Để in một nội dung kèm theo giá trị của biến, ta có các cách sau:"
   ]
  },
  {
   "cell_type": "code",
   "execution_count": 4,
   "id": "20ff912c",
   "metadata": {},
   "outputs": [],
   "source": [
    "food_1 = \"chocolate\"\n",
    "food_2 = \"sandwich\""
   ]
  },
  {
   "cell_type": "code",
   "execution_count": 2,
   "id": "6407a448",
   "metadata": {},
   "outputs": [
    {
     "name": "stdout",
     "output_type": "stream",
     "text": [
      "I love chocolate and I hate sandwich\n"
     ]
    }
   ],
   "source": [
    "# In trực tiếp\n",
    "print(\"I love chocolate and I hate sandwich\")"
   ]
  },
  {
   "cell_type": "code",
   "execution_count": 13,
   "id": "27d098b8",
   "metadata": {},
   "outputs": [
    {
     "name": "stdout",
     "output_type": "stream",
     "text": [
      "I love chocolate and I hate sandwich\n",
      "I love+chocolate+and I hate+sandwich\n",
      "I love chocolate and I love sandwich\n"
     ]
    }
   ],
   "source": [
    "# In bằng cách ghép các nội dung với nhau\n",
    "print(\"I love\", food_1, \"and I hate\", food_2)\n",
    "# Sử dụng tham số \"Sep\" để chèn kí tự khoảng cách mong muốn, mặc định là dấu cách\n",
    "print(\"I love\",food_1,\"and I hate\", food_2, sep=\"+\")\n",
    "# In bằng cách cộng chuỗi, nhược điểm: không tự động cách \n",
    "print(\"I love \" +food_1+ \" and I love \" + food_2)"
   ]
  },
  {
   "cell_type": "code",
   "execution_count": 17,
   "id": "717666f2",
   "metadata": {},
   "outputs": [
    {
     "name": "stdout",
     "output_type": "stream",
     "text": [
      "I love chocolate and I hate sandwich\n"
     ]
    }
   ],
   "source": [
    "# Sử dụng String Format\n",
    "print(f\"I love {food_1} and I hate {food_2}\")"
   ]
  },
  {
   "cell_type": "code",
   "execution_count": 23,
   "id": "c7276e05",
   "metadata": {},
   "outputs": [
    {
     "name": "stdout",
     "output_type": "stream",
     "text": [
      "I love \n",
      "chocolate\n",
      " and I hate \n",
      "sandwich\n",
      "---------\n",
      "I love chocolate and I hate sandwich"
     ]
    }
   ],
   "source": [
    "# Sử dụng nhiều lệnh print\n",
    "print(\"I love \")\n",
    "print(food_1)\n",
    "print(\" and I hate \")\n",
    "print(food_2)\n",
    "print(\"---------\")\n",
    "# Sử dụng tham số end =\"\" để in không xuống dòng \n",
    "print(\"I love \", end =\"\")\n",
    "print(food_1,end =\"\")\n",
    "print(\" and I hate \",end =\"\")\n",
    "print(food_2,end =\"\")"
   ]
  },
  {
   "cell_type": "markdown",
   "id": "e10788fb",
   "metadata": {},
   "source": [
    "### Nhập dữ liệu\n",
    "Để nhập dữ liệu vào chương trình python, chúng ta sử dụng hàm input()"
   ]
  },
  {
   "cell_type": "code",
   "execution_count": 25,
   "id": "b8b8afd3",
   "metadata": {
    "scrolled": true
   },
   "outputs": [
    {
     "name": "stdout",
     "output_type": "stream",
     "text": [
      "Hãy nhập tên: Hân\n",
      "Hân\n"
     ]
    }
   ],
   "source": [
    "name = input(\"Hãy nhập tên: \")\n",
    "print(name)"
   ]
  },
  {
   "cell_type": "code",
   "execution_count": 29,
   "id": "0dbc5b61",
   "metadata": {},
   "outputs": [
    {
     "name": "stdout",
     "output_type": "stream",
     "text": [
      "Hãy nhập 1 con số: 5\n",
      "5\n",
      "<class 'int'>\n"
     ]
    }
   ],
   "source": [
    "#type castring - ép kiểu dữ liệu thành int/float\n",
    "number = int(input(\"Hãy nhập 1 con số: \"))\n",
    "print(number)\n",
    "print(type(number))"
   ]
  },
  {
   "cell_type": "markdown",
   "id": "337f9c15",
   "metadata": {},
   "source": [
    "#### Thực hành: Viết chương trình nhập vào chiều dài và chiều rộng của hình chữ nhật, sau đó in ra chu vi và diện tích của hình chữ nhật đó"
   ]
  },
  {
   "cell_type": "code",
   "execution_count": 41,
   "id": "add68103",
   "metadata": {},
   "outputs": [
    {
     "name": "stdout",
     "output_type": "stream",
     "text": [
      "Nhập chiều dài hcn: 4\n",
      "Nhập chiều rộng hcn: 5\n",
      "Chiều dài: 4\n",
      "Chiều rộng: 5\n"
     ]
    }
   ],
   "source": [
    "# Nhập các kích thước của hình chữ nhật\n",
    "cd = int(input(\"Nhập chiều dài hcn: \"))\n",
    "cr = (int(input(\"Nhập chiều rộng hcn: \")))\n",
    "print(f\"Chiều dài: {cd}\")\n",
    "print(\"Chiều rộng:\",cr)"
   ]
  },
  {
   "cell_type": "code",
   "execution_count": 42,
   "id": "7a1cd73e",
   "metadata": {},
   "outputs": [],
   "source": [
    "# Tính toán chu vi, diện tích\n",
    "CV = (cd + cr)*2\n",
    "DT = cd*cr"
   ]
  },
  {
   "cell_type": "code",
   "execution_count": 54,
   "id": "d0adf735",
   "metadata": {},
   "outputs": [
    {
     "name": "stdout",
     "output_type": "stream",
     "text": [
      "Chu vi là 18 Diện tích là 20\n",
      "Chu vi là 18 Diện tích là 20\n",
      "Chu vi là 18 Diện tích là 20"
     ]
    }
   ],
   "source": [
    "# In kết quả ra màn hình bằng 3 cách\n",
    "print(\"Chu vi là\",CV,\"Diện tích là\",DT)\n",
    "print(f\"Chu vi là {CV} Diện tích là {DT}\")\n",
    "print(\"Chu vi là \", end=\"\")\n",
    "print(CV, end=\"\")\n",
    "print(\" Diện tích là \", end=\"\")\n",
    "print(DT, end=\"\")\n",
    "\n"
   ]
  },
  {
   "cell_type": "markdown",
   "id": "fb54cb77",
   "metadata": {},
   "source": [
    "#### Thực hành: Viết chương trình nhập vào số đo cạnh và mã màu của tam giác đều, sau đó sử dụng turtle để vẽ ra hình tam giác có số đo và màu tương ứng"
   ]
  },
  {
   "cell_type": "code",
   "execution_count": null,
   "id": "7583b308",
   "metadata": {},
   "outputs": [],
   "source": []
  },
  {
   "cell_type": "markdown",
   "id": "fa7cb208",
   "metadata": {},
   "source": [
    "## Cú pháp import"
   ]
  },
  {
   "cell_type": "markdown",
   "id": "ab2a2ea5",
   "metadata": {},
   "source": [
    "Để sử dụng một module từ bên ngoài, chúng ta sẽ sử dụng từ khóa import. Sau đây là ví dụ về một số cách import phổ biến."
   ]
  },
  {
   "cell_type": "markdown",
   "id": "bd6de377",
   "metadata": {},
   "source": [
    "### Random một giá trị ngẫu nhiên"
   ]
  },
  {
   "cell_type": "code",
   "execution_count": null,
   "id": "ce5547f5",
   "metadata": {},
   "outputs": [],
   "source": []
  },
  {
   "cell_type": "markdown",
   "id": "dfa93dc0",
   "metadata": {},
   "source": [
    "### Thực hiện các phép toán số học"
   ]
  },
  {
   "cell_type": "code",
   "execution_count": 8,
   "id": "4f06f722",
   "metadata": {},
   "outputs": [],
   "source": [
    "# import toàn bộ module"
   ]
  },
  {
   "cell_type": "code",
   "execution_count": null,
   "id": "6b9e471b",
   "metadata": {},
   "outputs": [],
   "source": [
    "# import một phần trong module"
   ]
  },
  {
   "cell_type": "markdown",
   "id": "391969e7",
   "metadata": {},
   "source": [
    "## Xử lý String trong python"
   ]
  },
  {
   "cell_type": "markdown",
   "id": "ab461669",
   "metadata": {},
   "source": [
    "### String là gì?\n",
    "String là một chuỗi gồm các ký tự Unicode"
   ]
  },
  {
   "cell_type": "markdown",
   "id": "94a27b90",
   "metadata": {},
   "source": [
    "### Khởi tạo một string"
   ]
  },
  {
   "cell_type": "code",
   "execution_count": 63,
   "id": "b14f4fcc",
   "metadata": {},
   "outputs": [],
   "source": [
    "# one-line string\n",
    "course_name = \"Python Foundamental\""
   ]
  },
  {
   "cell_type": "code",
   "execution_count": 61,
   "id": "9cc506a7",
   "metadata": {},
   "outputs": [],
   "source": [
    "# multi-line string\n",
    "mood = '''Hôm nay bạn cảm thấy thế nào: \n",
    "- Vui\n",
    "- Buồn\n",
    "- Sảng khoái'''"
   ]
  },
  {
   "cell_type": "markdown",
   "id": "8f4270fd",
   "metadata": {},
   "source": [
    "### Các thao tác phổ biến với string"
   ]
  },
  {
   "cell_type": "code",
   "execution_count": 64,
   "id": "c825f890",
   "metadata": {},
   "outputs": [
    {
     "name": "stdout",
     "output_type": "stream",
     "text": [
      "6\n"
     ]
    }
   ],
   "source": [
    "# Kiểm tra độ dài string\n",
    "cource_name = \"Python\"\n",
    "print(len(cource_name))"
   ]
  },
  {
   "cell_type": "code",
   "execution_count": 68,
   "id": "6de96621",
   "metadata": {},
   "outputs": [
    {
     "name": "stdout",
     "output_type": "stream",
     "text": [
      "X\n",
      "O\n"
     ]
    }
   ],
   "source": [
    "# Truy xuất ký tự bằng cơ chế indexing và reverse indexing\n",
    "working_calendar = \"OXOOOXX\"\n",
    "\n",
    "#indexing (bắt đầu từ bên trái)\n",
    "print(working_calendar[1])\n",
    "\n",
    "#reverse indexing (bắt đầu từ bên phải, định nghĩa thành số âm)\n",
    "print(working_calendar[-3])"
   ]
  },
  {
   "cell_type": "markdown",
   "id": "a4f949d9",
   "metadata": {},
   "source": [
    "#### Thực hành: Viết chương trình nhập vào một chuỗi bất kỳ, sau đó in ra ký tự đầu tiên và ký tự cuối cùng của chuỗi đó."
   ]
  },
  {
   "cell_type": "code",
   "execution_count": 70,
   "id": "14833f18",
   "metadata": {},
   "outputs": [
    {
     "name": "stdout",
     "output_type": "stream",
     "text": [
      "Please enter your numer phone012345\n",
      "0\n",
      "5\n"
     ]
    }
   ],
   "source": [
    "number = input(\"Please enter your numer phone \")\n",
    "print(number[0])\n",
    "print(number[-1])"
   ]
  },
  {
   "cell_type": "code",
   "execution_count": 83,
   "id": "9aad2f16",
   "metadata": {},
   "outputs": [
    {
     "name": "stdout",
     "output_type": "stream",
     "text": [
      "Python\n",
      "H\n"
     ]
    }
   ],
   "source": [
    "# Cắt string theo index\n",
    "# Cú pháp: <tên biến>[start:end<+1>:step]\n",
    "# default: start = 0, end = len(), step = 1\n",
    "content = \"Han,Python,3-5-7,String\"\n",
    "print(content[4:10:]) \n",
    "print(content[0:3:3])"
   ]
  },
  {
   "cell_type": "code",
   "execution_count": 87,
   "id": "6ec63f90",
   "metadata": {},
   "outputs": [
    {
     "name": "stdout",
     "output_type": "stream",
     "text": [
      "HelloWorld\n",
      "HelloHelloHello\n"
     ]
    }
   ],
   "source": [
    "# Ghép chuỗi và lặp chuỗi\n",
    "a = \"Hello\"\n",
    "b = \"World\"\n",
    "\n",
    "#ghép chuỗi\n",
    "print(a + b)\n",
    "print(a*3)"
   ]
  },
  {
   "cell_type": "markdown",
   "id": "84c2dcb9",
   "metadata": {},
   "source": [
    "#### Thực hành: Xử lý và in ra các thông tin tương ứng trong chuỗi"
   ]
  },
  {
   "cell_type": "code",
   "execution_count": null,
   "id": "cd71f135",
   "metadata": {},
   "outputs": [],
   "source": []
  },
  {
   "cell_type": "markdown",
   "id": "7cbd965f",
   "metadata": {},
   "source": [
    "### Các hàm thông dụng khi xử lý string"
   ]
  },
  {
   "cell_type": "code",
   "execution_count": 93,
   "id": "eb5932a1",
   "metadata": {},
   "outputs": [
    {
     "name": "stdout",
     "output_type": "stream",
     "text": [
      "14\n"
     ]
    }
   ],
   "source": [
    "# len\n",
    "content = \"My name is Han\"\n",
    "print(len(content))"
   ]
  },
  {
   "cell_type": "code",
   "execution_count": 91,
   "id": "6bef6d33",
   "metadata": {},
   "outputs": [
    {
     "name": "stdout",
     "output_type": "stream",
     "text": [
      "2\n",
      "1\n"
     ]
    }
   ],
   "source": [
    "# count\n",
    "content = \"My name is Han\"\n",
    "print(content.count('n'))\n",
    "print(content.count('is'))"
   ]
  },
  {
   "cell_type": "code",
   "execution_count": 98,
   "id": "1582bbd8",
   "metadata": {},
   "outputs": [
    {
     "name": "stdout",
     "output_type": "stream",
     "text": [
      "MÁY NƯỚC NÓNG\n",
      "máy nước nóng\n",
      "Máy nước nóng\n"
     ]
    }
   ],
   "source": [
    "# upper, lower\n",
    "#Ví dụ, điền thông tin tên + sản phẩm + phản hồi\n",
    "content_1 = \"máy nước nóng\"\n",
    "print(content_1.upper())\n",
    "print(content_1.lower())\n",
    "\n",
    "#In chữ cái đầu tiên\n",
    "print(content_1.capitalize())"
   ]
  },
  {
   "cell_type": "code",
   "execution_count": 119,
   "id": "0d08f708",
   "metadata": {},
   "outputs": [
    {
     "name": "stdout",
     "output_type": "stream",
     "text": [
      "máy nước nóng,,,,   \n",
      "  máy nước nóng,,,,   \n",
      "máy nước nóng,,,,\n",
      "máy nước nóng\n"
     ]
    }
   ],
   "source": [
    "# lstrip, rstrip, strip\n",
    "#Khái niệm trailing white spaces\n",
    "content_2 = \"  máy nước nóng,,,,   \"\n",
    "\n",
    "#lstrip: cắt bỏ bên trái\n",
    "print(content_2.lstrip())\n",
    "\n",
    "#rstrip: cắt bỏ bên phải\n",
    "print(content_2.rstrip(','))\n",
    "\n",
    "#strip: loại bỏ khoảng trắng 2 bên\n",
    "print(content_2.strip())\n",
    "\n",
    "print(content_2.strip().rstrip(','))"
   ]
  },
  {
   "cell_type": "code",
   "execution_count": 120,
   "id": "62180d52",
   "metadata": {},
   "outputs": [
    {
     "name": "stdout",
     "output_type": "stream",
     "text": [
      "['My', 'name', 'is', 'Han']\n"
     ]
    }
   ],
   "source": [
    "# split\n",
    "content = \"My name is Han\"\n",
    "print(content.split())"
   ]
  },
  {
   "cell_type": "markdown",
   "id": "032ba1fc",
   "metadata": {},
   "source": []
  }
 ],
 "metadata": {
  "kernelspec": {
   "display_name": "Python 3 (ipykernel)",
   "language": "python",
   "name": "python3"
  },
  "language_info": {
   "codemirror_mode": {
    "name": "ipython",
    "version": 3
   },
   "file_extension": ".py",
   "mimetype": "text/x-python",
   "name": "python",
   "nbconvert_exporter": "python",
   "pygments_lexer": "ipython3",
   "version": "3.11.3"
  }
 },
 "nbformat": 4,
 "nbformat_minor": 5
}
